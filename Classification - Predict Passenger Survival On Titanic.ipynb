{
 "cells": [
  {
   "cell_type": "markdown",
   "id": "f69d1aa1",
   "metadata": {},
   "source": [
    "# Classification - Predict Passenger Survival On Titanic\n",
    "\n",
    "The goal is to predict whether or not a passenger survived the Titanic based on attributes such as their age, sex, passenger class, where they embarked and so on. Data in this dataset has already been separated in a train and test set.\n",
    "\n",
    "The dataset comes from: https://www.kaggle.com/c/titanic\n",
    "\n",
    "## 1. Get the Data:"
   ]
  },
  {
   "cell_type": "code",
   "execution_count": 1,
   "id": "72b951dc",
   "metadata": {},
   "outputs": [],
   "source": [
    "import pandas as pd\n",
    "import numpy as np\n",
    "\n",
    "def load_titanic_data():\n",
    "    train_data = pd.read_csv(\"train.csv\")\n",
    "    test_data_pre = pd.read_csv(\"test.csv\")\n",
    "    test_data_y = pd.read_csv(\"gender_submission.csv\")\n",
    "    test_data = pd.concat([test_data_y, test_data_pre], axis=1)\n",
    "    #test_data\n",
    "    \n",
    "    return train_data, test_data\n",
    "\n",
    "train, test = load_titanic_data()"
   ]
  },
  {
   "cell_type": "markdown",
   "id": "e2b615a8",
   "metadata": {},
   "source": [
    "## 2. Data Exploration\n",
    "\n",
    "### General Exploration"
   ]
  },
  {
   "cell_type": "code",
   "execution_count": 2,
   "id": "59cd35bd",
   "metadata": {},
   "outputs": [
    {
     "data": {
      "text/html": [
       "<div>\n",
       "<style scoped>\n",
       "    .dataframe tbody tr th:only-of-type {\n",
       "        vertical-align: middle;\n",
       "    }\n",
       "\n",
       "    .dataframe tbody tr th {\n",
       "        vertical-align: top;\n",
       "    }\n",
       "\n",
       "    .dataframe thead th {\n",
       "        text-align: right;\n",
       "    }\n",
       "</style>\n",
       "<table border=\"1\" class=\"dataframe\">\n",
       "  <thead>\n",
       "    <tr style=\"text-align: right;\">\n",
       "      <th></th>\n",
       "      <th>PassengerId</th>\n",
       "      <th>Survived</th>\n",
       "      <th>Pclass</th>\n",
       "      <th>Name</th>\n",
       "      <th>Sex</th>\n",
       "      <th>Age</th>\n",
       "      <th>SibSp</th>\n",
       "      <th>Parch</th>\n",
       "      <th>Ticket</th>\n",
       "      <th>Fare</th>\n",
       "      <th>Cabin</th>\n",
       "      <th>Embarked</th>\n",
       "    </tr>\n",
       "  </thead>\n",
       "  <tbody>\n",
       "    <tr>\n",
       "      <th>0</th>\n",
       "      <td>1</td>\n",
       "      <td>0</td>\n",
       "      <td>3</td>\n",
       "      <td>Braund, Mr. Owen Harris</td>\n",
       "      <td>male</td>\n",
       "      <td>22.0</td>\n",
       "      <td>1</td>\n",
       "      <td>0</td>\n",
       "      <td>A/5 21171</td>\n",
       "      <td>7.2500</td>\n",
       "      <td>NaN</td>\n",
       "      <td>S</td>\n",
       "    </tr>\n",
       "    <tr>\n",
       "      <th>1</th>\n",
       "      <td>2</td>\n",
       "      <td>1</td>\n",
       "      <td>1</td>\n",
       "      <td>Cumings, Mrs. John Bradley (Florence Briggs Th...</td>\n",
       "      <td>female</td>\n",
       "      <td>38.0</td>\n",
       "      <td>1</td>\n",
       "      <td>0</td>\n",
       "      <td>PC 17599</td>\n",
       "      <td>71.2833</td>\n",
       "      <td>C85</td>\n",
       "      <td>C</td>\n",
       "    </tr>\n",
       "    <tr>\n",
       "      <th>2</th>\n",
       "      <td>3</td>\n",
       "      <td>1</td>\n",
       "      <td>3</td>\n",
       "      <td>Heikkinen, Miss. Laina</td>\n",
       "      <td>female</td>\n",
       "      <td>26.0</td>\n",
       "      <td>0</td>\n",
       "      <td>0</td>\n",
       "      <td>STON/O2. 3101282</td>\n",
       "      <td>7.9250</td>\n",
       "      <td>NaN</td>\n",
       "      <td>S</td>\n",
       "    </tr>\n",
       "    <tr>\n",
       "      <th>3</th>\n",
       "      <td>4</td>\n",
       "      <td>1</td>\n",
       "      <td>1</td>\n",
       "      <td>Futrelle, Mrs. Jacques Heath (Lily May Peel)</td>\n",
       "      <td>female</td>\n",
       "      <td>35.0</td>\n",
       "      <td>1</td>\n",
       "      <td>0</td>\n",
       "      <td>113803</td>\n",
       "      <td>53.1000</td>\n",
       "      <td>C123</td>\n",
       "      <td>S</td>\n",
       "    </tr>\n",
       "    <tr>\n",
       "      <th>4</th>\n",
       "      <td>5</td>\n",
       "      <td>0</td>\n",
       "      <td>3</td>\n",
       "      <td>Allen, Mr. William Henry</td>\n",
       "      <td>male</td>\n",
       "      <td>35.0</td>\n",
       "      <td>0</td>\n",
       "      <td>0</td>\n",
       "      <td>373450</td>\n",
       "      <td>8.0500</td>\n",
       "      <td>NaN</td>\n",
       "      <td>S</td>\n",
       "    </tr>\n",
       "  </tbody>\n",
       "</table>\n",
       "</div>"
      ],
      "text/plain": [
       "   PassengerId  Survived  Pclass  \\\n",
       "0            1         0       3   \n",
       "1            2         1       1   \n",
       "2            3         1       3   \n",
       "3            4         1       1   \n",
       "4            5         0       3   \n",
       "\n",
       "                                                Name     Sex   Age  SibSp  \\\n",
       "0                            Braund, Mr. Owen Harris    male  22.0      1   \n",
       "1  Cumings, Mrs. John Bradley (Florence Briggs Th...  female  38.0      1   \n",
       "2                             Heikkinen, Miss. Laina  female  26.0      0   \n",
       "3       Futrelle, Mrs. Jacques Heath (Lily May Peel)  female  35.0      1   \n",
       "4                           Allen, Mr. William Henry    male  35.0      0   \n",
       "\n",
       "   Parch            Ticket     Fare Cabin Embarked  \n",
       "0      0         A/5 21171   7.2500   NaN        S  \n",
       "1      0          PC 17599  71.2833   C85        C  \n",
       "2      0  STON/O2. 3101282   7.9250   NaN        S  \n",
       "3      0            113803  53.1000  C123        S  \n",
       "4      0            373450   8.0500   NaN        S  "
      ]
     },
     "execution_count": 2,
     "metadata": {},
     "output_type": "execute_result"
    }
   ],
   "source": [
    "train.head()"
   ]
  },
  {
   "cell_type": "markdown",
   "id": "3520e39f",
   "metadata": {},
   "source": [
    "The attributes have the following meaning:\n",
    "* **Survived**: that's the target, 0 means the passenger did not survive, while 1 means he/she survived.\n",
    "* **Pclass**: passenger class.\n",
    "* **Name**, **Sex**, **Age**: self-explanatory\n",
    "* **SibSp**: how many siblings & spouses of the passenger aboard the Titanic.\n",
    "* **Parch**: how many children & parents of the passenger aboard the Titanic.\n",
    "* **Ticket**: ticket id\n",
    "* **Fare**: price paid (in pounds)\n",
    "* **Cabin**: passenger's cabin number\n",
    "* **Embarked**: where the passenger embarked the Titanic\n",
    "\n",
    "We create a copy of the data for exploration and study atrribute types, % of missing values, Noise, Type of distribution."
   ]
  },
  {
   "cell_type": "code",
   "execution_count": 3,
   "id": "2e534767",
   "metadata": {},
   "outputs": [
    {
     "name": "stdout",
     "output_type": "stream",
     "text": [
      "<class 'pandas.core.frame.DataFrame'>\n",
      "RangeIndex: 891 entries, 0 to 890\n",
      "Data columns (total 12 columns):\n",
      " #   Column       Non-Null Count  Dtype  \n",
      "---  ------       --------------  -----  \n",
      " 0   PassengerId  891 non-null    int64  \n",
      " 1   Survived     891 non-null    int64  \n",
      " 2   Pclass       891 non-null    int64  \n",
      " 3   Name         891 non-null    object \n",
      " 4   Sex          891 non-null    object \n",
      " 5   Age          714 non-null    float64\n",
      " 6   SibSp        891 non-null    int64  \n",
      " 7   Parch        891 non-null    int64  \n",
      " 8   Ticket       891 non-null    object \n",
      " 9   Fare         891 non-null    float64\n",
      " 10  Cabin        204 non-null    object \n",
      " 11  Embarked     889 non-null    object \n",
      "dtypes: float64(2), int64(5), object(5)\n",
      "memory usage: 83.7+ KB\n"
     ]
    }
   ],
   "source": [
    "train_copy = train.copy()\n",
    "train_copy.info()"
   ]
  },
  {
   "cell_type": "code",
   "execution_count": 4,
   "id": "472a898d",
   "metadata": {},
   "outputs": [
    {
     "data": {
      "text/plain": [
       "347082      7\n",
       "CA. 2343    7\n",
       "1601        7\n",
       "347088      6\n",
       "3101295     6\n",
       "           ..\n",
       "315094      1\n",
       "113514      1\n",
       "19988       1\n",
       "335677      1\n",
       "2672        1\n",
       "Name: Ticket, Length: 681, dtype: int64"
      ]
     },
     "execution_count": 4,
     "metadata": {},
     "output_type": "execute_result"
    }
   ],
   "source": [
    "train_copy[\"Ticket\"].value_counts()"
   ]
  },
  {
   "cell_type": "markdown",
   "id": "c781b787",
   "metadata": {},
   "source": [
    "We observe there are numerical attributes (Survived, Pclass, Age, SibSp, Parch, Fare) and categorical attributes (Name, Sex, Ticket, Cabin, Embarked), all correctly labeled.\n",
    "\n",
    "The Age, Cabin and Embarked attributes are sometimes null:\n",
    "* Embarked: 0.22%\n",
    "* Age: 19.87%\n",
    "* Cabin: 77.10%\n",
    "\n",
    "Cabins values are mostly missing, we will ignore them for now. The age attribute has most values and will need further analysis but replacing the value with the median age seems reasonable. Embarked is practically complete and will be kept, we will decide if replacing nulls or removing the null rows.\n",
    "\n",
    "Name will be ignored for now. Also ticket since there are more than 681 unique entries and might be hard to convert to numbers that a model can consume.\n",
    "\n",
    "### Numerical attributes:"
   ]
  },
  {
   "cell_type": "code",
   "execution_count": 5,
   "id": "8c36bc48",
   "metadata": {},
   "outputs": [
    {
     "data": {
      "text/html": [
       "<div>\n",
       "<style scoped>\n",
       "    .dataframe tbody tr th:only-of-type {\n",
       "        vertical-align: middle;\n",
       "    }\n",
       "\n",
       "    .dataframe tbody tr th {\n",
       "        vertical-align: top;\n",
       "    }\n",
       "\n",
       "    .dataframe thead th {\n",
       "        text-align: right;\n",
       "    }\n",
       "</style>\n",
       "<table border=\"1\" class=\"dataframe\">\n",
       "  <thead>\n",
       "    <tr style=\"text-align: right;\">\n",
       "      <th></th>\n",
       "      <th>PassengerId</th>\n",
       "      <th>Survived</th>\n",
       "      <th>Pclass</th>\n",
       "      <th>Age</th>\n",
       "      <th>SibSp</th>\n",
       "      <th>Parch</th>\n",
       "      <th>Fare</th>\n",
       "    </tr>\n",
       "  </thead>\n",
       "  <tbody>\n",
       "    <tr>\n",
       "      <th>count</th>\n",
       "      <td>891.000000</td>\n",
       "      <td>891.000000</td>\n",
       "      <td>891.000000</td>\n",
       "      <td>714.000000</td>\n",
       "      <td>891.000000</td>\n",
       "      <td>891.000000</td>\n",
       "      <td>891.000000</td>\n",
       "    </tr>\n",
       "    <tr>\n",
       "      <th>mean</th>\n",
       "      <td>446.000000</td>\n",
       "      <td>0.383838</td>\n",
       "      <td>2.308642</td>\n",
       "      <td>29.699118</td>\n",
       "      <td>0.523008</td>\n",
       "      <td>0.381594</td>\n",
       "      <td>32.204208</td>\n",
       "    </tr>\n",
       "    <tr>\n",
       "      <th>std</th>\n",
       "      <td>257.353842</td>\n",
       "      <td>0.486592</td>\n",
       "      <td>0.836071</td>\n",
       "      <td>14.526497</td>\n",
       "      <td>1.102743</td>\n",
       "      <td>0.806057</td>\n",
       "      <td>49.693429</td>\n",
       "    </tr>\n",
       "    <tr>\n",
       "      <th>min</th>\n",
       "      <td>1.000000</td>\n",
       "      <td>0.000000</td>\n",
       "      <td>1.000000</td>\n",
       "      <td>0.420000</td>\n",
       "      <td>0.000000</td>\n",
       "      <td>0.000000</td>\n",
       "      <td>0.000000</td>\n",
       "    </tr>\n",
       "    <tr>\n",
       "      <th>25%</th>\n",
       "      <td>223.500000</td>\n",
       "      <td>0.000000</td>\n",
       "      <td>2.000000</td>\n",
       "      <td>20.125000</td>\n",
       "      <td>0.000000</td>\n",
       "      <td>0.000000</td>\n",
       "      <td>7.910400</td>\n",
       "    </tr>\n",
       "    <tr>\n",
       "      <th>50%</th>\n",
       "      <td>446.000000</td>\n",
       "      <td>0.000000</td>\n",
       "      <td>3.000000</td>\n",
       "      <td>28.000000</td>\n",
       "      <td>0.000000</td>\n",
       "      <td>0.000000</td>\n",
       "      <td>14.454200</td>\n",
       "    </tr>\n",
       "    <tr>\n",
       "      <th>75%</th>\n",
       "      <td>668.500000</td>\n",
       "      <td>1.000000</td>\n",
       "      <td>3.000000</td>\n",
       "      <td>38.000000</td>\n",
       "      <td>1.000000</td>\n",
       "      <td>0.000000</td>\n",
       "      <td>31.000000</td>\n",
       "    </tr>\n",
       "    <tr>\n",
       "      <th>max</th>\n",
       "      <td>891.000000</td>\n",
       "      <td>1.000000</td>\n",
       "      <td>3.000000</td>\n",
       "      <td>80.000000</td>\n",
       "      <td>8.000000</td>\n",
       "      <td>6.000000</td>\n",
       "      <td>512.329200</td>\n",
       "    </tr>\n",
       "  </tbody>\n",
       "</table>\n",
       "</div>"
      ],
      "text/plain": [
       "       PassengerId    Survived      Pclass         Age       SibSp  \\\n",
       "count   891.000000  891.000000  891.000000  714.000000  891.000000   \n",
       "mean    446.000000    0.383838    2.308642   29.699118    0.523008   \n",
       "std     257.353842    0.486592    0.836071   14.526497    1.102743   \n",
       "min       1.000000    0.000000    1.000000    0.420000    0.000000   \n",
       "25%     223.500000    0.000000    2.000000   20.125000    0.000000   \n",
       "50%     446.000000    0.000000    3.000000   28.000000    0.000000   \n",
       "75%     668.500000    1.000000    3.000000   38.000000    1.000000   \n",
       "max     891.000000    1.000000    3.000000   80.000000    8.000000   \n",
       "\n",
       "            Parch        Fare  \n",
       "count  891.000000  891.000000  \n",
       "mean     0.381594   32.204208  \n",
       "std      0.806057   49.693429  \n",
       "min      0.000000    0.000000  \n",
       "25%      0.000000    7.910400  \n",
       "50%      0.000000   14.454200  \n",
       "75%      0.000000   31.000000  \n",
       "max      6.000000  512.329200  "
      ]
     },
     "execution_count": 5,
     "metadata": {},
     "output_type": "execute_result"
    }
   ],
   "source": [
    "train_copy.describe()"
   ]
  },
  {
   "cell_type": "markdown",
   "id": "c3e07198",
   "metadata": {},
   "source": [
    "* **Survived:** Only 38% of passengers survived, this is close to 40%, so accuracy might be an adecuate measure of evaluation. Since the value is an int and we see the min and max are 0 and 1 we know there are indeed only two categories.\n",
    "\n",
    "* **Age:** varies between .42 and 80, the median is 28 and on average people are 29, this means there is a much higher percent of young people, this might have to be reviewed since most likely age and survival are highly correlated, maybe separating on different strats (Ex. child, adult, middle aged) might be useful.\n",
    "\n",
    "* **Fare:** shows there is a high difference between lower and higher values, also there are people that payed 0, this should be considered, might these be workers?\n",
    "\n",
    "* **SibSp and Parch:** Both these attributes have to do with family and are mostly 0 nevertheless it might be useful to combine and create a new attribute \"family\"."
   ]
  },
  {
   "cell_type": "code",
   "execution_count": 6,
   "id": "962930cf",
   "metadata": {},
   "outputs": [
    {
     "data": {
      "image/png": "[encoded data removed]",
      "text/plain": [
       "<Figure size 1440x720 with 4 Axes>"
      ]
     },
     "metadata": {
      "needs_background": "light"
     },
     "output_type": "display_data"
    }
   ],
   "source": [
    "# we will create a function on our pipeline that includes these options and also tests it in our model\n",
    "train_copy[\"Family\"] = train_copy[\"SibSp\"] + train_copy[\"Parch\"]\n",
    "\n",
    "%matplotlib inline\n",
    "import matplotlib.pyplot as plt\n",
    "train_copy.loc[:,[\"SibSp\", \"Parch\", \"Family\"]].hist(bins=10, figsize=(20,10))\n",
    "plt.show()"
   ]
  },
  {
   "cell_type": "code",
   "execution_count": 7,
   "id": "c41fe0bd",
   "metadata": {},
   "outputs": [
    {
     "data": {
      "text/html": [
       "<div>\n",
       "<style scoped>\n",
       "    .dataframe tbody tr th:only-of-type {\n",
       "        vertical-align: middle;\n",
       "    }\n",
       "\n",
       "    .dataframe tbody tr th {\n",
       "        vertical-align: top;\n",
       "    }\n",
       "\n",
       "    .dataframe thead th {\n",
       "        text-align: right;\n",
       "    }\n",
       "</style>\n",
       "<table border=\"1\" class=\"dataframe\">\n",
       "  <thead>\n",
       "    <tr style=\"text-align: right;\">\n",
       "      <th></th>\n",
       "      <th>Survived</th>\n",
       "    </tr>\n",
       "    <tr>\n",
       "      <th>Family</th>\n",
       "      <th></th>\n",
       "    </tr>\n",
       "  </thead>\n",
       "  <tbody>\n",
       "    <tr>\n",
       "      <th>0</th>\n",
       "      <td>0.303538</td>\n",
       "    </tr>\n",
       "    <tr>\n",
       "      <th>1</th>\n",
       "      <td>0.552795</td>\n",
       "    </tr>\n",
       "    <tr>\n",
       "      <th>2</th>\n",
       "      <td>0.578431</td>\n",
       "    </tr>\n",
       "    <tr>\n",
       "      <th>3</th>\n",
       "      <td>0.724138</td>\n",
       "    </tr>\n",
       "    <tr>\n",
       "      <th>4</th>\n",
       "      <td>0.200000</td>\n",
       "    </tr>\n",
       "    <tr>\n",
       "      <th>5</th>\n",
       "      <td>0.136364</td>\n",
       "    </tr>\n",
       "    <tr>\n",
       "      <th>6</th>\n",
       "      <td>0.333333</td>\n",
       "    </tr>\n",
       "    <tr>\n",
       "      <th>7</th>\n",
       "      <td>0.000000</td>\n",
       "    </tr>\n",
       "    <tr>\n",
       "      <th>10</th>\n",
       "      <td>0.000000</td>\n",
       "    </tr>\n",
       "  </tbody>\n",
       "</table>\n",
       "</div>"
      ],
      "text/plain": [
       "        Survived\n",
       "Family          \n",
       "0       0.303538\n",
       "1       0.552795\n",
       "2       0.578431\n",
       "3       0.724138\n",
       "4       0.200000\n",
       "5       0.136364\n",
       "6       0.333333\n",
       "7       0.000000\n",
       "10      0.000000"
      ]
     },
     "execution_count": 7,
     "metadata": {},
     "output_type": "execute_result"
    }
   ],
   "source": [
    "train_copy[[\"Family\", \"Survived\"]].groupby(['Family']).mean()"
   ]
  },
  {
   "cell_type": "markdown",
   "id": "8986854a",
   "metadata": {},
   "source": [
    "We see that there are more than 600 people that have no siblings and parents or children, when combined there is only more than 500 that have no relatives, also we see that parch is quite incomplete yet the family has many more numbers per strata. We will add the option to combine these on a pipeline and see our performance.\n",
    "\n",
    "We also notice that people that have no family have a 30% survival rate, vs people with 1 to 3 family members have more than 50% chance, it might be useful to try a model with a categorical value if you have family or not.\n",
    "\n",
    "Now lets compare age by groups (every 15 years) and as raw numbers, we will plot cases that survived."
   ]
  },
  {
   "cell_type": "code",
   "execution_count": 8,
   "id": "dfe52f2e",
   "metadata": {},
   "outputs": [
    {
     "data": {
      "image/png": "[encoded data removed]",
      "text/plain": [
       "<Figure size 1152x216 with 2 Axes>"
      ]
     },
     "metadata": {
      "needs_background": "light"
     },
     "output_type": "display_data"
    }
   ],
   "source": [
    "%matplotlib inline\n",
    "\n",
    "train_copy[\"age_group\"] = train_copy[\"Age\"] // 15 * 15\n",
    "\n",
    "plot_1 = train_copy[\"Age\"][train_copy[\"Survived\"] == 1]\n",
    "plot_2 = train_copy[\"age_group\"][train_copy[\"Survived\"] == 1]\n",
    "\n",
    "\n",
    "figure, axis = plt.subplots(1,2, figsize=(16,3))\n",
    "  \n",
    "# For Age\n",
    "axis[0].hist(plot_1)\n",
    "axis[0].set_title(\"Survived by Age\")\n",
    "  \n",
    "# For Age Group\n",
    "axis[1].hist(plot_2)\n",
    "axis[1].set_title(\"Survived by Age Group\")\n",
    "\n",
    "# Combine all the operations and display\n",
    "axis[1].figsize=(20, 20)\n",
    "plt.show()\n"
   ]
  },
  {
   "cell_type": "markdown",
   "id": "0b19ca96",
   "metadata": {},
   "source": [
    "### Categorical Attributes\n",
    "\n",
    "We see that even though third class is the most common it has the lowest survival rate, survival seems to be higher by class."
   ]
  },
  {
   "cell_type": "code",
   "execution_count": 9,
   "id": "db51375b",
   "metadata": {},
   "outputs": [
    {
     "data": {
      "text/html": [
       "<div>\n",
       "<style scoped>\n",
       "    .dataframe tbody tr th:only-of-type {\n",
       "        vertical-align: middle;\n",
       "    }\n",
       "\n",
       "    .dataframe tbody tr th {\n",
       "        vertical-align: top;\n",
       "    }\n",
       "\n",
       "    .dataframe thead th {\n",
       "        text-align: right;\n",
       "    }\n",
       "</style>\n",
       "<table border=\"1\" class=\"dataframe\">\n",
       "  <thead>\n",
       "    <tr style=\"text-align: right;\">\n",
       "      <th></th>\n",
       "      <th>Survived</th>\n",
       "      <th>Total</th>\n",
       "    </tr>\n",
       "    <tr>\n",
       "      <th>Pclass</th>\n",
       "      <th></th>\n",
       "      <th></th>\n",
       "    </tr>\n",
       "  </thead>\n",
       "  <tbody>\n",
       "    <tr>\n",
       "      <th>1</th>\n",
       "      <td>0.629630</td>\n",
       "      <td>0.242424</td>\n",
       "    </tr>\n",
       "    <tr>\n",
       "      <th>2</th>\n",
       "      <td>0.472826</td>\n",
       "      <td>0.206510</td>\n",
       "    </tr>\n",
       "    <tr>\n",
       "      <th>3</th>\n",
       "      <td>0.242363</td>\n",
       "      <td>0.551066</td>\n",
       "    </tr>\n",
       "  </tbody>\n",
       "</table>\n",
       "</div>"
      ],
      "text/plain": [
       "        Survived     Total\n",
       "Pclass                    \n",
       "1       0.629630  0.242424\n",
       "2       0.472826  0.206510\n",
       "3       0.242363  0.551066"
      ]
     },
     "execution_count": 9,
     "metadata": {},
     "output_type": "execute_result"
    }
   ],
   "source": [
    "pclass = train_copy[[\"Pclass\", \"Survived\"]].groupby([\"Pclass\"]).mean()\n",
    "pclass2 = pd.DataFrame(train_copy[\"Pclass\"].value_counts()/len(train_copy[\"Pclass\"])).reset_index()\n",
    "pclass2 = pclass2.rename(columns={'Pclass': 'Total', 'index':'Pclass'}).set_index(\"Pclass\")\n",
    "pclass = pd.concat([pclass, pclass2], axis=1)\n",
    "pclass"
   ]
  },
  {
   "cell_type": "markdown",
   "id": "726ef9bd",
   "metadata": {},
   "source": [
    "Even though only 35% of the population is female, they are 74% of survivals, it is clearly a very important factor."
   ]
  },
  {
   "cell_type": "code",
   "execution_count": 10,
   "id": "18ac040f",
   "metadata": {},
   "outputs": [
    {
     "data": {
      "text/html": [
       "<div>\n",
       "<style scoped>\n",
       "    .dataframe tbody tr th:only-of-type {\n",
       "        vertical-align: middle;\n",
       "    }\n",
       "\n",
       "    .dataframe tbody tr th {\n",
       "        vertical-align: top;\n",
       "    }\n",
       "\n",
       "    .dataframe thead th {\n",
       "        text-align: right;\n",
       "    }\n",
       "</style>\n",
       "<table border=\"1\" class=\"dataframe\">\n",
       "  <thead>\n",
       "    <tr style=\"text-align: right;\">\n",
       "      <th></th>\n",
       "      <th>Survived</th>\n",
       "      <th>Total</th>\n",
       "    </tr>\n",
       "    <tr>\n",
       "      <th>Sex</th>\n",
       "      <th></th>\n",
       "      <th></th>\n",
       "    </tr>\n",
       "  </thead>\n",
       "  <tbody>\n",
       "    <tr>\n",
       "      <th>female</th>\n",
       "      <td>0.742038</td>\n",
       "      <td>0.352413</td>\n",
       "    </tr>\n",
       "    <tr>\n",
       "      <th>male</th>\n",
       "      <td>0.188908</td>\n",
       "      <td>0.647587</td>\n",
       "    </tr>\n",
       "  </tbody>\n",
       "</table>\n",
       "</div>"
      ],
      "text/plain": [
       "        Survived     Total\n",
       "Sex                       \n",
       "female  0.742038  0.352413\n",
       "male    0.188908  0.647587"
      ]
     },
     "execution_count": 10,
     "metadata": {},
     "output_type": "execute_result"
    }
   ],
   "source": [
    "sex_df = train_copy[[\"Sex\", \"Survived\"]].groupby(['Sex']).mean()\n",
    "sex_df2 = pd.DataFrame(train_copy[\"Sex\"].value_counts()/len(train_copy[\"Sex\"])).reset_index()\n",
    "sex_df2= sex_df2.rename(columns={'Sex': 'Total', 'index':'Sex'}).set_index(\"Sex\")\n",
    "sex_df = pd.concat([sex_df, sex_df2], axis=1)\n",
    "sex_df"
   ]
  },
  {
   "cell_type": "markdown",
   "id": "85e607c8",
   "metadata": {},
   "source": [
    "The Embarked attribute tells us where the passenger embarked: C=Cherbourg, Q=Queenstown, S=Southampton. We see that Cherbourg has the highest survival rate even though they are 20% of the total."
   ]
  },
  {
   "cell_type": "code",
   "execution_count": 11,
   "id": "4b674e92",
   "metadata": {},
   "outputs": [
    {
     "data": {
      "text/html": [
       "<div>\n",
       "<style scoped>\n",
       "    .dataframe tbody tr th:only-of-type {\n",
       "        vertical-align: middle;\n",
       "    }\n",
       "\n",
       "    .dataframe tbody tr th {\n",
       "        vertical-align: top;\n",
       "    }\n",
       "\n",
       "    .dataframe thead th {\n",
       "        text-align: right;\n",
       "    }\n",
       "</style>\n",
       "<table border=\"1\" class=\"dataframe\">\n",
       "  <thead>\n",
       "    <tr style=\"text-align: right;\">\n",
       "      <th></th>\n",
       "      <th>Survived</th>\n",
       "      <th>Total</th>\n",
       "    </tr>\n",
       "    <tr>\n",
       "      <th>Embarked</th>\n",
       "      <th></th>\n",
       "      <th></th>\n",
       "    </tr>\n",
       "  </thead>\n",
       "  <tbody>\n",
       "    <tr>\n",
       "      <th>C</th>\n",
       "      <td>0.553571</td>\n",
       "      <td>0.188552</td>\n",
       "    </tr>\n",
       "    <tr>\n",
       "      <th>Q</th>\n",
       "      <td>0.389610</td>\n",
       "      <td>0.086420</td>\n",
       "    </tr>\n",
       "    <tr>\n",
       "      <th>S</th>\n",
       "      <td>0.336957</td>\n",
       "      <td>0.722783</td>\n",
       "    </tr>\n",
       "  </tbody>\n",
       "</table>\n",
       "</div>"
      ],
      "text/plain": [
       "          Survived     Total\n",
       "Embarked                    \n",
       "C         0.553571  0.188552\n",
       "Q         0.389610  0.086420\n",
       "S         0.336957  0.722783"
      ]
     },
     "execution_count": 11,
     "metadata": {},
     "output_type": "execute_result"
    }
   ],
   "source": [
    "embarked_df = train_copy[[\"Embarked\", \"Survived\"]].groupby(['Embarked']).mean()\n",
    "embarked_df2 = pd.DataFrame(train_copy[\"Embarked\"].value_counts()/len(train_copy[\"Embarked\"])).reset_index()\n",
    "embarked_df2= embarked_df2.rename(columns={'Embarked': 'Total', 'index':'Embarked'}).set_index(\"Embarked\")\n",
    "embarked_df = pd.concat([embarked_df, embarked_df2], axis=1)\n",
    "embarked_df"
   ]
  },
  {
   "cell_type": "markdown",
   "id": "d76cc7b8",
   "metadata": {},
   "source": [
    "## 3. Data Preparation\n",
    "\n",
    "We will build our preprocessing pipelines, first we will create a custom class to select which attributes to use, our final pipeline will process different iterations of these features and select which is best. The possible transformations are the following:\n",
    "* add_family: this will add SibSp + Parch and remove those columns, a new attribute is called \"Family\"\n",
    "* change_age: we change the age to a ordinal value\n",
    "* family_class: adds a binary categorical value, 1 if the person has family, 0 if not. Removes SibSp, Parch and Family if this attribute exists\n"
   ]
  },
  {
   "cell_type": "code",
   "execution_count": 12,
   "id": "d72216bc",
   "metadata": {},
   "outputs": [],
   "source": [
    "from sklearn.base import BaseEstimator, TransformerMixin\n",
    "\n",
    "# This will automatically select the correct columns to select\n",
    "class SelectAttributes(BaseEstimator, TransformerMixin):\n",
    "    def __init__(self, add_family=False, change_age=False, family_class=False):\n",
    "        self.add_family = add_family\n",
    "        self.change_age = change_age\n",
    "        self.family_class = family_class\n",
    "        \n",
    "    def fit(self, X, y=None):\n",
    "        return self\n",
    "    \n",
    "    def transform(self, X):\n",
    "        columns = [\"Survived\", \"Pclass\", \"Sex\", \"Age\", \"SibSp\", \n",
    "                        \"Parch\", \"Fare\", \"Embarked\"]\n",
    "        \n",
    "        def remove_verifier(name, column):\n",
    "            if name in column:\n",
    "                column.remove(name)\n",
    "        \n",
    "        # We add the column to see how many family members there are\n",
    "        if self.add_family:\n",
    "            X[\"Family\"] = X[\"SibSp\"] + X[\"Parch\"]\n",
    "            columns.append(\"Family\")\n",
    "            remove_verifier(\"SibSp\", columns)\n",
    "            remove_verifier(\"Parch\", columns)\n",
    "        # The age is changed from year to segment\n",
    "        if self.change_age:\n",
    "            X[\"Age_Group\"] = X[\"Age\"] // 15\n",
    "            columns.append(\"Age_Group\")\n",
    "            remove_verifier(\"Age\", columns)\n",
    "        \n",
    "        # Checks if there are family members or not\n",
    "        if self.family_class:\n",
    "            X[\"Has_Family\"] = X[\"SibSp\"] + X[\"Parch\"]\n",
    "            X[\"Has_Family\"]= X[\"Has_Family\"].apply(lambda x: 0 if x==0 else 1)\n",
    "            columns.append(\"Has_Family\")\n",
    "            remove_verifier(\"SibSp\", columns)\n",
    "            remove_verifier(\"Parch\", columns)\n",
    "            remove_verifier(\"Family\", columns)\n",
    "        \n",
    "        X = X.loc[:,columns]\n",
    "        \n",
    "        return X"
   ]
  },
  {
   "cell_type": "markdown",
   "id": "f10ec39c",
   "metadata": {},
   "source": [
    "There are a total of 2^3= 8 combinations, nevertheless since \"Has_Family\" deletes the \"Family\" category this diminishes the possible outcomes to 6 (the combination true, false, true & false, false, true outputs the same result; the same happens between false, true, true & true, true, true).\n",
    "\n",
    "**We will test all possible combinations to select the best one!!**"
   ]
  },
  {
   "cell_type": "code",
   "execution_count": 13,
   "id": "ed3a3672",
   "metadata": {},
   "outputs": [],
   "source": [
    "# This function identifies the categorical and numeric columns\n",
    "def ColumnIdentifier(X):\n",
    "    num_columns = [\"Pclass\", \"Age\", \"SibSp\", \"Parch\", \"Fare\", \"Family\"]\n",
    "    cat_columns = [\"Sex\", \"Embarked\", \"Age_Group\", \"Has_Family\"]\n",
    "    if \"Family\" in X.columns:\n",
    "        num_columns.remove(\"SibSp\")\n",
    "        num_columns.remove(\"Parch\")\n",
    "    else: num_columns.remove(\"Family\")\n",
    "    \n",
    "    if \"Has_Family\" in X.columns:\n",
    "        if \"Family\" in num_columns:\n",
    "            num_columns.remove(\"Family\")\n",
    "        else: \n",
    "            num_columns.remove(\"SibSp\")\n",
    "            num_columns.remove(\"Parch\")\n",
    "    else: cat_columns.remove(\"Has_Family\")\n",
    "    \n",
    "    if \"Age_Group\" in X.columns:\n",
    "        num_columns.remove(\"Age\")\n",
    "    else:\n",
    "        cat_columns.remove(\"Age_Group\")\n",
    "    return num_columns, cat_columns"
   ]
  },
  {
   "cell_type": "markdown",
   "id": "ea6ce9c5",
   "metadata": {},
   "source": [
    "### **Numeric Attributes:** \n",
    "We create our pipeline for numerical attributes, our pipeline will remove numeric NaNs and scale the attributes."
   ]
  },
  {
   "cell_type": "code",
   "execution_count": 14,
   "id": "e1783c32",
   "metadata": {},
   "outputs": [],
   "source": [
    "from sklearn.pipeline import Pipeline\n",
    "from sklearn.impute import SimpleImputer\n",
    "from sklearn.preprocessing import StandardScaler\n",
    "\n",
    "num_pipeline = Pipeline([\n",
    "    ('remove_nans', SimpleImputer(strategy=\"median\")),\n",
    "    ('scale', StandardScaler()),\n",
    "])"
   ]
  },
  {
   "cell_type": "markdown",
   "id": "11bfb355",
   "metadata": {},
   "source": [
    "### **Categorical Attributes:**\n",
    "\n",
    "We will need an imputer for the string categorical values, we select the most common occurence and apply a OneHotEncoder"
   ]
  },
  {
   "cell_type": "code",
   "execution_count": 15,
   "id": "a28e39f6",
   "metadata": {},
   "outputs": [],
   "source": [
    "class MostFrequentImputer(BaseEstimator, TransformerMixin):\n",
    "    def fit(self, X, y=None):\n",
    "        self.most_frequent_ = pd.Series([X[c].value_counts().index[0] for c in X],\n",
    "                                        index=X.columns)\n",
    "        return self\n",
    "    def transform(self, X):\n",
    "        return X.fillna(self.most_frequent_)"
   ]
  },
  {
   "cell_type": "code",
   "execution_count": 16,
   "id": "7ad735e3",
   "metadata": {},
   "outputs": [],
   "source": [
    "from sklearn.preprocessing import OneHotEncoder\n",
    "\n",
    "cat_pipeline = Pipeline([\n",
    "    ('imputer', MostFrequentImputer()),\n",
    "    ('cat_encoder', OneHotEncoder(sparse=False)),\n",
    "])"
   ]
  },
  {
   "cell_type": "markdown",
   "id": "28b7730a",
   "metadata": {},
   "source": [
    "### Complete Data Preparation Pipeline:\n",
    "\n",
    "We combine the numeric and categorical pipeline into one final model."
   ]
  },
  {
   "cell_type": "code",
   "execution_count": 17,
   "id": "fdf29df8",
   "metadata": {},
   "outputs": [
    {
     "data": {
      "text/plain": [
       "array([[ 0.82737724, -0.56573646,  0.43279337, ...,  0.        ,\n",
       "         0.        ,  1.        ],\n",
       "       [-1.56610693,  0.66386103,  0.43279337, ...,  1.        ,\n",
       "         0.        ,  0.        ],\n",
       "       [ 0.82737724, -0.25833709, -0.4745452 , ...,  0.        ,\n",
       "         0.        ,  1.        ],\n",
       "       ...,\n",
       "       [ 0.82737724, -0.1046374 ,  0.43279337, ...,  0.        ,\n",
       "         0.        ,  1.        ],\n",
       "       [-1.56610693, -0.25833709, -0.4745452 , ...,  1.        ,\n",
       "         0.        ,  0.        ],\n",
       "       [ 0.82737724,  0.20276197, -0.4745452 , ...,  0.        ,\n",
       "         1.        ,  0.        ]])"
      ]
     },
     "execution_count": 17,
     "metadata": {},
     "output_type": "execute_result"
    }
   ],
   "source": [
    "from sklearn.compose import ColumnTransformer\n",
    "\n",
    "X_train = SelectAttributes().fit_transform(train)\n",
    "\n",
    "num_columns, cat_columns = ColumnIdentifier(X_train)\n",
    "\n",
    "preprocess_pipeline = ColumnTransformer([\n",
    "    (\"num\", num_pipeline, num_columns),\n",
    "    (\"one_hot\", cat_pipeline, cat_columns),\n",
    "])\n",
    "\n",
    "X_train = preprocess_pipeline.fit_transform(X_train)\n",
    "X_train"
   ]
  },
  {
   "cell_type": "code",
   "execution_count": 18,
   "id": "5043e6db",
   "metadata": {},
   "outputs": [],
   "source": [
    "y_train = train[\"Survived\"]"
   ]
  },
  {
   "cell_type": "markdown",
   "id": "74af45a0",
   "metadata": {},
   "source": [
    "# 4. Select & Train Model\n",
    "\n",
    "On this section we will select different many models with random search and cross validation and select the top 5 models."
   ]
  },
  {
   "cell_type": "code",
   "execution_count": 19,
   "id": "81311d6c",
   "metadata": {},
   "outputs": [],
   "source": [
    "# We create all the attribute combinations to test them and know which parameters we will use in our model\n",
    "\n",
    "import itertools\n",
    "l = [False, True]\n",
    "preprocess_options = list(itertools.product(l, repeat=3))\n",
    "\n",
    "#We create a dictionary with all the different model parameters\n",
    "models = dict()\n",
    "#KNN\n",
    "models = dict()\n",
    "\n",
    "\n",
    "embarked_df = pd.concat([embarked_df, embarked_df2], axis=0)"
   ]
  },
  {
   "cell_type": "code",
   "execution_count": 20,
   "id": "2207bd67",
   "metadata": {},
   "outputs": [
    {
     "data": {
      "text/plain": [
       "[(False, False, False),\n",
       " (False, False, True),\n",
       " (False, True, False),\n",
       " (False, True, True),\n",
       " (True, False, False),\n",
       " (True, False, True),\n",
       " (True, True, False),\n",
       " (True, True, True)]"
      ]
     },
     "execution_count": 20,
     "metadata": {},
     "output_type": "execute_result"
    }
   ],
   "source": [
    "preprocess_options"
   ]
  },
  {
   "cell_type": "code",
   "execution_count": 21,
   "id": "7a3df7cb",
   "metadata": {},
   "outputs": [],
   "source": [
    "def preparation(data, af, ca, fc):\n",
    "    X_source = SelectAttributes(add_family=af,\n",
    "                               change_age=ca,\n",
    "                               family_class=fc).fit_transform(data)\n",
    "\n",
    "    num_columns, cat_columns = ColumnIdentifier(X_source)\n",
    "\n",
    "    preprocess_pipeline = ColumnTransformer([\n",
    "        (\"num\", num_pipeline, num_columns),\n",
    "        (\"one_hot\", cat_pipeline, cat_columns),\n",
    "    ])\n",
    "    X_train = preprocess_pipeline.fit_transform(X_source)\n",
    "    return X_train"
   ]
  },
  {
   "cell_type": "code",
   "execution_count": 22,
   "id": "8f4c29c4",
   "metadata": {},
   "outputs": [],
   "source": [
    "model_results = pd.DataFrame(columns=['params','mean_test_score', 'model'])"
   ]
  },
  {
   "cell_type": "markdown",
   "id": "8ca1acef",
   "metadata": {},
   "source": [
    "### Testing Different Models:\n",
    "\n",
    "We will test different classifiers using Randomized Search with Cross Validation and generate a table of all the trained models and their hyperparameters.\n",
    "\n",
    "We will train:\n",
    "- KNN\n",
    "- Random Forest\n",
    "\n",
    "\n",
    "**Note:** On this notebook we will only use these two algorithms to test due to the amount of parameter options and hyperparameters to consider which increases processing time significantly, especially on the case of SVM. There are many other algorithms that could be used, among them:\n",
    "- SVM\n",
    "- Logistic Regression\n",
    "- GaussianNB\n",
    "- SGD Classifier\n",
    "- Gradient Boosting Classifier"
   ]
  },
  {
   "cell_type": "code",
   "execution_count": 23,
   "id": "4708d83b",
   "metadata": {},
   "outputs": [],
   "source": [
    "from sklearn.model_selection import RandomizedSearchCV\n",
    "from scipy.stats import randint\n",
    "\n",
    "from sklearn.neighbors import KNeighborsClassifier\n",
    "from sklearn.ensemble import RandomForestClassifier\n",
    "\n",
    "for line in preprocess_options:\n",
    "    add_family = line[0]\n",
    "    change_age = line[1]\n",
    "    family_class = line[2]\n",
    "    \n",
    "    X_train = preparation(train, add_family, change_age, family_class)\n",
    "    \n",
    "    #KNN\n",
    "    k_range=range(1,26)\n",
    "    options=['uniform', 'distance']\n",
    "    param_distribs = {'n_neighbors':k_range, 'weights':options,}\n",
    "    knn = KNeighborsClassifier()\n",
    "    knn_rand = RandomizedSearchCV(knn, param_distribs, \n",
    "                                  cv=10, scoring='accuracy', n_iter=10, random_state=42)\n",
    "    knn_rand.fit(X_train, y_train)\n",
    "    knn_table = pd.DataFrame(knn_rand.cv_results_)[['params','mean_test_score']]\n",
    "    knn_table[\"model\"] = \"knn\"\n",
    "    \n",
    "    # Random Forest\n",
    "    param_distribs = {\n",
    "        'n_estimators': randint(low=1, high=200),\n",
    "        'max_features': randint(low=1, high=8),}\n",
    "    forest_reg = RandomForestClassifier()\n",
    "    rnd_search = RandomizedSearchCV(forest_reg, param_distributions=param_distribs,\n",
    "                                n_iter=10, cv=10, scoring='accuracy', random_state=42)\n",
    "    rnd_search.fit(X_train, y_train)\n",
    "    rnd_table = pd.DataFrame(rnd_search.cv_results_)[['params','mean_test_score']]\n",
    "    rnd_table['model'] = \"rforest\"\n",
    "    \n",
    "    \"\"\"\n",
    "    # SVM\n",
    "    param_distribs = {'C': [0.1,1, 10, 100], \n",
    "                      'gamma': [1,0.1,0.01,0.001],\n",
    "                      'kernel': ['rbf', 'poly', 'sigmoid']}\n",
    "    svm = SVC()\n",
    "    svm_search = RandomizedSearchCV(svm, param_distributions=param_distribs,\n",
    "                                n_iter=10, cv=10, scoring='accuracy', random_state=42)\n",
    "\n",
    "    svm_search.fit(X_train, y_train)\n",
    "    svm_table = pd.DataFrame(svm_search.cv_results_)[['params','mean_test_score']]\n",
    "    rnd_table['model'] = \"svm\"\n",
    "    \"\"\"\n",
    "    \n",
    "    # We now join the model results to the final table\n",
    "    temp_table = pd.concat([knn_table, rnd_table], axis=0)\n",
    "    temp_table['variables'] = [line]*len(temp_table)\n",
    "    model_results = pd.concat([model_results, temp_table], axis=0)"
   ]
  },
  {
   "cell_type": "markdown",
   "id": "abc4bc7e",
   "metadata": {},
   "source": [
    "We have now tested the different models with many parameters and hyperparameters, we will select the 5 best ones based on accuracy and see their performance with our test set."
   ]
  },
  {
   "cell_type": "code",
   "execution_count": 24,
   "id": "8425e796",
   "metadata": {},
   "outputs": [
    {
     "name": "stdout",
     "output_type": "stream",
     "text": [
      "Total Number of Models Run: 160\n",
      "Best 5 Scores:\n"
     ]
    },
    {
     "data": {
      "text/html": [
       "<div>\n",
       "<style scoped>\n",
       "    .dataframe tbody tr th:only-of-type {\n",
       "        vertical-align: middle;\n",
       "    }\n",
       "\n",
       "    .dataframe tbody tr th {\n",
       "        vertical-align: top;\n",
       "    }\n",
       "\n",
       "    .dataframe thead th {\n",
       "        text-align: right;\n",
       "    }\n",
       "</style>\n",
       "<table border=\"1\" class=\"dataframe\">\n",
       "  <thead>\n",
       "    <tr style=\"text-align: right;\">\n",
       "      <th></th>\n",
       "      <th>params</th>\n",
       "      <th>mean_test_score</th>\n",
       "      <th>model</th>\n",
       "      <th>variables</th>\n",
       "    </tr>\n",
       "  </thead>\n",
       "  <tbody>\n",
       "    <tr>\n",
       "      <th>0</th>\n",
       "      <td>{'max_features': 7, 'n_estimators': 180}</td>\n",
       "      <td>0.830574</td>\n",
       "      <td>rforest</td>\n",
       "      <td>(True, False, False)</td>\n",
       "    </tr>\n",
       "    <tr>\n",
       "      <th>1</th>\n",
       "      <td>{'max_features': 7, 'n_estimators': 180}</td>\n",
       "      <td>0.823845</td>\n",
       "      <td>rforest</td>\n",
       "      <td>(True, True, False)</td>\n",
       "    </tr>\n",
       "    <tr>\n",
       "      <th>2</th>\n",
       "      <td>{'max_features': 5, 'n_estimators': 100}</td>\n",
       "      <td>0.823820</td>\n",
       "      <td>rforest</td>\n",
       "      <td>(True, True, False)</td>\n",
       "    </tr>\n",
       "    <tr>\n",
       "      <th>3</th>\n",
       "      <td>{'max_features': 7, 'n_estimators': 180}</td>\n",
       "      <td>0.821623</td>\n",
       "      <td>rforest</td>\n",
       "      <td>(True, False, True)</td>\n",
       "    </tr>\n",
       "    <tr>\n",
       "      <th>4</th>\n",
       "      <td>{'max_features': 7, 'n_estimators': 180}</td>\n",
       "      <td>0.821623</td>\n",
       "      <td>rforest</td>\n",
       "      <td>(False, True, True)</td>\n",
       "    </tr>\n",
       "  </tbody>\n",
       "</table>\n",
       "</div>"
      ],
      "text/plain": [
       "                                     params  mean_test_score    model  \\\n",
       "0  {'max_features': 7, 'n_estimators': 180}         0.830574  rforest   \n",
       "1  {'max_features': 7, 'n_estimators': 180}         0.823845  rforest   \n",
       "2  {'max_features': 5, 'n_estimators': 100}         0.823820  rforest   \n",
       "3  {'max_features': 7, 'n_estimators': 180}         0.821623  rforest   \n",
       "4  {'max_features': 7, 'n_estimators': 180}         0.821623  rforest   \n",
       "\n",
       "              variables  \n",
       "0  (True, False, False)  \n",
       "1   (True, True, False)  \n",
       "2   (True, True, False)  \n",
       "3   (True, False, True)  \n",
       "4   (False, True, True)  "
      ]
     },
     "execution_count": 24,
     "metadata": {},
     "output_type": "execute_result"
    }
   ],
   "source": [
    "print(\"Total Number of Models Run:\", model_results.shape[0])\n",
    "print(\"Best 5 Scores:\")\n",
    "final_selection = model_results.sort_values(\"mean_test_score\", ascending=False).head().reset_index().iloc[:,1:]\n",
    "final_selection"
   ]
  },
  {
   "cell_type": "markdown",
   "id": "4e1b02bf",
   "metadata": {},
   "source": [
    "# 5. Testing Final Models"
   ]
  },
  {
   "cell_type": "code",
   "execution_count": 25,
   "id": "1b8d420e",
   "metadata": {},
   "outputs": [
    {
     "name": "stdout",
     "output_type": "stream",
     "text": [
      "Algorithm: rforest\n",
      "Parameters: (True, False, False)\n",
      "Hyperparameters: {'max_features': 7, 'n_estimators': 180}\n",
      "ROC AUC Score: 0.8242481203007519\n",
      "\n",
      "Algorithm: rforest\n",
      "Parameters: (True, True, False)\n",
      "Hyperparameters: {'max_features': 7, 'n_estimators': 180}\n",
      "ROC AUC Score: 0.805451127819549\n",
      "\n",
      "Algorithm: rforest\n",
      "Parameters: (True, True, False)\n",
      "Hyperparameters: {'max_features': 5, 'n_estimators': 100}\n",
      "ROC AUC Score: 0.7932330827067668\n",
      "\n",
      "Algorithm: rforest\n",
      "Parameters: (True, False, True)\n",
      "Hyperparameters: {'max_features': 7, 'n_estimators': 180}\n",
      "ROC AUC Score: 0.8012218045112782\n",
      "\n",
      "Algorithm: rforest\n",
      "Parameters: (False, True, True)\n",
      "Hyperparameters: {'max_features': 7, 'n_estimators': 180}\n",
      "ROC AUC Score: 0.7861842105263158\n",
      "\n"
     ]
    }
   ],
   "source": [
    "from sklearn.metrics import roc_auc_score\n",
    "\n",
    "for row in range(final_selection.shape[0]):\n",
    "    variables = final_selection.loc[row, \"variables\"]\n",
    "    \n",
    "    X_prep = SelectAttributes(add_family=variables[0],\n",
    "                           change_age=variables[1],\n",
    "                           family_class=variables[2])\n",
    "    X_source = X_prep.fit_transform(train)\n",
    "    X_source_test = X_prep.fit_transform(test)\n",
    "    \n",
    "    num_columns, cat_columns = ColumnIdentifier(X_source)\n",
    "    preprocess_pipeline = ColumnTransformer([\n",
    "    (\"num\", num_pipeline, num_columns),\n",
    "    (\"one_hot\", cat_pipeline, cat_columns),\n",
    "    ])\n",
    "    \n",
    "    X_train = preprocess_pipeline.fit_transform(X_source)\n",
    "\n",
    "    if final_selection.loc[row, 'model'] == 'rforest':\n",
    "        reg = RandomForestClassifier(**final_selection.loc[row, \"params\"],\n",
    "                                    random_state=42)\n",
    "\n",
    "    else:\n",
    "        reg = KNeighborsClassifier(**final_selection.loc[row, \"params\"],\n",
    "                                    random_state=42)\n",
    "    \n",
    "    reg.fit(X_train, y_train)\n",
    "    \n",
    "    num_columns, cat_columns = ColumnIdentifier(X_source_test)\n",
    "\n",
    "    preprocess_pipeline = ColumnTransformer([\n",
    "        (\"num\", num_pipeline, num_columns),\n",
    "        (\"one_hot\", cat_pipeline, cat_columns),\n",
    "    ])\n",
    "    X_test = preprocess_pipeline.fit_transform(X_source_test)\n",
    "    prediction = reg.predict(X_test)\n",
    "    \n",
    "    print(\"Algorithm:\", final_selection.loc[row, 'model'])\n",
    "    print(\"Parameters:\", variables)\n",
    "    print(\"Hyperparameters:\", final_selection.loc[row, \"params\"])\n",
    "    print(\"ROC AUC Score:\", roc_auc_score(test.Survived, prediction))\n",
    "    print(\"\")"
   ]
  },
  {
   "cell_type": "markdown",
   "id": "5dcde9d7",
   "metadata": {},
   "source": [
    "We observe that on the test set the 2 best models out of the 5 with an accuracy of 82-83% both add the column with the number of family members that where on the ship. Also both models do not consider the dummy variable if the person has family or not nor the age group segmentation.\n",
    "\n",
    "There are other ways to improve the model, like including other parameters that where ignored or other feature transformations. Also running other machine learning algorithms that werent run due to processing time, nevertheless a 82% accuracy is quite good."
   ]
  }
 ],
 "metadata": {
  "kernelspec": {
   "display_name": "Python 3",
   "language": "python",
   "name": "python3"
  },
  "language_info": {
   "codemirror_mode": {
    "name": "ipython",
    "version": 3
   },
   "file_extension": ".py",
   "mimetype": "text/x-python",
   "name": "python",
   "nbconvert_exporter": "python",
   "pygments_lexer": "ipython3",
   "version": "3.9.4"
  }
 },
 "nbformat": 4,
 "nbformat_minor": 5
}
