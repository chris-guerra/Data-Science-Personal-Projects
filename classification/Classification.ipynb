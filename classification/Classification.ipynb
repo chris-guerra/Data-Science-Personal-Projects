{
 "cells": [
  {
   "cell_type": "markdown",
   "id": "b3ab933c",
   "metadata": {},
   "source": [
    "# Classification Summary\n",
    "\n",
    "The purpose of this notebook is to have a summary on classification. Specifically how to select good metrics for classification tasks, pick the appropiate precision/recall trade-off, compare classifiers, and build good classification systems for a variety of tasks. The Document is sepearated in the following sections:\n",
    "\n",
    "0. MNIST Dataset (Obtaining data from a classic dataset)\n",
    "1. Classification Metrics for a Binary Classifier\n",
    "    1. Confusion Matrix\n",
    "    2. Precision, Recall, F1 Score\n",
    "    3. Precision/Recall Trade-Off\n",
    "        1. PR Curve\n",
    "        2. ROC Curve and ROC AUC Score\n",
    "    4. Comparing Binary Classifier Algorithms\n",
    "2. Multiclass Classification\n",
    "    1. OvR and OvO strategies\n",
    "3. Error Analysis\n",
    "    1. Multiclass Confusion Matrix\n",
    "    2. Engineering New Features\n",
    "    3. Analyzing Visual Errors\n",
    "    4. Centering Images\n",
    "4. Multilabel Classification\n",
    "5. Multioutput Classification\n",
    "\n",
    "**Note:** this project doesn't formally follow a machine learning project checklist (Frame the problem, Get the Data, Explore the Data, Prepare the Data, Shortlist Promising Models, Fine-Tune the System, Present your Solution). Especially on the selection of what machine learning algorithms to use since the purpose is more on a classification system is evaluated than on specific algorithms.\n",
    "\n",
    "\n",
    "\n",
    "# 0. MNIST Dataset\n",
    "\n",
    "For this section we will be using the MNIST dataset with 70,000 small images of digits handwritten and the label of the digit they represent."
   ]
  },
  {
   "cell_type": "code",
   "execution_count": 1,
   "id": "3393c70f",
   "metadata": {},
   "outputs": [
    {
     "data": {
      "text/plain": [
       "dict_keys(['data', 'target', 'frame', 'categories', 'feature_names', 'target_names', 'DESCR', 'details', 'url'])"
      ]
     },
     "execution_count": 1,
     "metadata": {},
     "output_type": "execute_result"
    }
   ],
   "source": [
    "import pandas as pd\n",
    "import numpy as np\n",
    "\n",
    "from sklearn.datasets import fetch_openml\n",
    "mnist = fetch_openml('mnist_784', version=1)\n",
    "mnist.keys()"
   ]
  },
  {
   "cell_type": "code",
   "execution_count": 2,
   "id": "d01512e9",
   "metadata": {},
   "outputs": [
    {
     "name": "stdout",
     "output_type": "stream",
     "text": [
      "(70000, 784) (70000,)\n"
     ]
    },
    {
     "data": {
      "text/html": [
       "<div>\n",
       "<style scoped>\n",
       "    .dataframe tbody tr th:only-of-type {\n",
       "        vertical-align: middle;\n",
       "    }\n",
       "\n",
       "    .dataframe tbody tr th {\n",
       "        vertical-align: top;\n",
       "    }\n",
       "\n",
       "    .dataframe thead th {\n",
       "        text-align: right;\n",
       "    }\n",
       "</style>\n",
       "<table border=\"1\" class=\"dataframe\">\n",
       "  <thead>\n",
       "    <tr style=\"text-align: right;\">\n",
       "      <th></th>\n",
       "      <th>pixel1</th>\n",
       "      <th>pixel2</th>\n",
       "      <th>pixel3</th>\n",
       "      <th>pixel4</th>\n",
       "      <th>pixel5</th>\n",
       "      <th>pixel6</th>\n",
       "      <th>pixel7</th>\n",
       "      <th>pixel8</th>\n",
       "      <th>pixel9</th>\n",
       "      <th>pixel10</th>\n",
       "      <th>...</th>\n",
       "      <th>pixel775</th>\n",
       "      <th>pixel776</th>\n",
       "      <th>pixel777</th>\n",
       "      <th>pixel778</th>\n",
       "      <th>pixel779</th>\n",
       "      <th>pixel780</th>\n",
       "      <th>pixel781</th>\n",
       "      <th>pixel782</th>\n",
       "      <th>pixel783</th>\n",
       "      <th>pixel784</th>\n",
       "    </tr>\n",
       "  </thead>\n",
       "  <tbody>\n",
       "    <tr>\n",
       "      <th>0</th>\n",
       "      <td>0.0</td>\n",
       "      <td>0.0</td>\n",
       "      <td>0.0</td>\n",
       "      <td>0.0</td>\n",
       "      <td>0.0</td>\n",
       "      <td>0.0</td>\n",
       "      <td>0.0</td>\n",
       "      <td>0.0</td>\n",
       "      <td>0.0</td>\n",
       "      <td>0.0</td>\n",
       "      <td>...</td>\n",
       "      <td>0.0</td>\n",
       "      <td>0.0</td>\n",
       "      <td>0.0</td>\n",
       "      <td>0.0</td>\n",
       "      <td>0.0</td>\n",
       "      <td>0.0</td>\n",
       "      <td>0.0</td>\n",
       "      <td>0.0</td>\n",
       "      <td>0.0</td>\n",
       "      <td>0.0</td>\n",
       "    </tr>\n",
       "    <tr>\n",
       "      <th>1</th>\n",
       "      <td>0.0</td>\n",
       "      <td>0.0</td>\n",
       "      <td>0.0</td>\n",
       "      <td>0.0</td>\n",
       "      <td>0.0</td>\n",
       "      <td>0.0</td>\n",
       "      <td>0.0</td>\n",
       "      <td>0.0</td>\n",
       "      <td>0.0</td>\n",
       "      <td>0.0</td>\n",
       "      <td>...</td>\n",
       "      <td>0.0</td>\n",
       "      <td>0.0</td>\n",
       "      <td>0.0</td>\n",
       "      <td>0.0</td>\n",
       "      <td>0.0</td>\n",
       "      <td>0.0</td>\n",
       "      <td>0.0</td>\n",
       "      <td>0.0</td>\n",
       "      <td>0.0</td>\n",
       "      <td>0.0</td>\n",
       "    </tr>\n",
       "    <tr>\n",
       "      <th>2</th>\n",
       "      <td>0.0</td>\n",
       "      <td>0.0</td>\n",
       "      <td>0.0</td>\n",
       "      <td>0.0</td>\n",
       "      <td>0.0</td>\n",
       "      <td>0.0</td>\n",
       "      <td>0.0</td>\n",
       "      <td>0.0</td>\n",
       "      <td>0.0</td>\n",
       "      <td>0.0</td>\n",
       "      <td>...</td>\n",
       "      <td>0.0</td>\n",
       "      <td>0.0</td>\n",
       "      <td>0.0</td>\n",
       "      <td>0.0</td>\n",
       "      <td>0.0</td>\n",
       "      <td>0.0</td>\n",
       "      <td>0.0</td>\n",
       "      <td>0.0</td>\n",
       "      <td>0.0</td>\n",
       "      <td>0.0</td>\n",
       "    </tr>\n",
       "    <tr>\n",
       "      <th>3</th>\n",
       "      <td>0.0</td>\n",
       "      <td>0.0</td>\n",
       "      <td>0.0</td>\n",
       "      <td>0.0</td>\n",
       "      <td>0.0</td>\n",
       "      <td>0.0</td>\n",
       "      <td>0.0</td>\n",
       "      <td>0.0</td>\n",
       "      <td>0.0</td>\n",
       "      <td>0.0</td>\n",
       "      <td>...</td>\n",
       "      <td>0.0</td>\n",
       "      <td>0.0</td>\n",
       "      <td>0.0</td>\n",
       "      <td>0.0</td>\n",
       "      <td>0.0</td>\n",
       "      <td>0.0</td>\n",
       "      <td>0.0</td>\n",
       "      <td>0.0</td>\n",
       "      <td>0.0</td>\n",
       "      <td>0.0</td>\n",
       "    </tr>\n",
       "    <tr>\n",
       "      <th>4</th>\n",
       "      <td>0.0</td>\n",
       "      <td>0.0</td>\n",
       "      <td>0.0</td>\n",
       "      <td>0.0</td>\n",
       "      <td>0.0</td>\n",
       "      <td>0.0</td>\n",
       "      <td>0.0</td>\n",
       "      <td>0.0</td>\n",
       "      <td>0.0</td>\n",
       "      <td>0.0</td>\n",
       "      <td>...</td>\n",
       "      <td>0.0</td>\n",
       "      <td>0.0</td>\n",
       "      <td>0.0</td>\n",
       "      <td>0.0</td>\n",
       "      <td>0.0</td>\n",
       "      <td>0.0</td>\n",
       "      <td>0.0</td>\n",
       "      <td>0.0</td>\n",
       "      <td>0.0</td>\n",
       "      <td>0.0</td>\n",
       "    </tr>\n",
       "  </tbody>\n",
       "</table>\n",
       "<p>5 rows × 784 columns</p>\n",
       "</div>"
      ],
      "text/plain": [
       "   pixel1  pixel2  pixel3  pixel4  pixel5  pixel6  pixel7  pixel8  pixel9  \\\n",
       "0     0.0     0.0     0.0     0.0     0.0     0.0     0.0     0.0     0.0   \n",
       "1     0.0     0.0     0.0     0.0     0.0     0.0     0.0     0.0     0.0   \n",
       "2     0.0     0.0     0.0     0.0     0.0     0.0     0.0     0.0     0.0   \n",
       "3     0.0     0.0     0.0     0.0     0.0     0.0     0.0     0.0     0.0   \n",
       "4     0.0     0.0     0.0     0.0     0.0     0.0     0.0     0.0     0.0   \n",
       "\n",
       "   pixel10  ...  pixel775  pixel776  pixel777  pixel778  pixel779  pixel780  \\\n",
       "0      0.0  ...       0.0       0.0       0.0       0.0       0.0       0.0   \n",
       "1      0.0  ...       0.0       0.0       0.0       0.0       0.0       0.0   \n",
       "2      0.0  ...       0.0       0.0       0.0       0.0       0.0       0.0   \n",
       "3      0.0  ...       0.0       0.0       0.0       0.0       0.0       0.0   \n",
       "4      0.0  ...       0.0       0.0       0.0       0.0       0.0       0.0   \n",
       "\n",
       "   pixel781  pixel782  pixel783  pixel784  \n",
       "0       0.0       0.0       0.0       0.0  \n",
       "1       0.0       0.0       0.0       0.0  \n",
       "2       0.0       0.0       0.0       0.0  \n",
       "3       0.0       0.0       0.0       0.0  \n",
       "4       0.0       0.0       0.0       0.0  \n",
       "\n",
       "[5 rows x 784 columns]"
      ]
     },
     "execution_count": 2,
     "metadata": {},
     "output_type": "execute_result"
    }
   ],
   "source": [
    "X, y = mnist[\"data\"], mnist[\"target\"]\n",
    "y = y.astype(np.uint8)\n",
    "print(X.shape, y.shape)\n",
    "X.head()"
   ]
  },
  {
   "cell_type": "code",
   "execution_count": 3,
   "id": "1d61c4ba",
   "metadata": {},
   "outputs": [
    {
     "name": "stdout",
     "output_type": "stream",
     "text": [
      "Label: 5\n"
     ]
    },
    {
     "data": {
      "image/png": "[encoded data removed]",
      "text/plain": [
       "<Figure size 432x288 with 1 Axes>"
      ]
     },
     "metadata": {
      "needs_background": "light"
     },
     "output_type": "display_data"
    }
   ],
   "source": [
    "import matplotlib as mpl\n",
    "import matplotlib.pyplot as plt\n",
    "\n",
    "X = X.values\n",
    "five = X[0]\n",
    "five_image = five.reshape(28,28)\n",
    "plt.imshow(five_image, cmap=mpl.cm.binary)\n",
    "plt.axis(\"off\")\n",
    "\n",
    "print(\"Label:\", y[0])"
   ]
  },
  {
   "cell_type": "code",
   "execution_count": 4,
   "id": "6c624741",
   "metadata": {},
   "outputs": [],
   "source": [
    "# The MNIST Database is already split in a train test set\n",
    "# with similar cross-validation folds.\n",
    "\n",
    "X_train, X_test, y_train, y_test = X[:60000], X[60000:], y[:60000], y[60000:]"
   ]
  },
  {
   "cell_type": "markdown",
   "id": "441c5719",
   "metadata": {},
   "source": [
    "# 1. Classification Metrics for a Binary Classifier\n",
    "\n",
    "The purpose of this section is to show different classification metrics to consider on a binnary classifier to evaluate the model. \n",
    "\n",
    "In this example our data will be used to detect if a given number is a 5 or not and we will use the model to show different considerations of metrics based on a concrete example. We will use a SGDClassifier first and analize performance."
   ]
  },
  {
   "cell_type": "code",
   "execution_count": 5,
   "id": "4bcb214f",
   "metadata": {},
   "outputs": [
    {
     "data": {
      "text/plain": [
       "array([ True])"
      ]
     },
     "execution_count": 5,
     "metadata": {},
     "output_type": "execute_result"
    }
   ],
   "source": [
    "# we sepparate the dataset as boolean values (True if x=5)\n",
    "y_train_5 = (y_train == 5)\n",
    "y_test_5 = (y_test == 5)\n",
    "\n",
    "from sklearn.linear_model import SGDClassifier\n",
    "\n",
    "sgd_clf = SGDClassifier(random_state=42)\n",
    "sgd_clf.fit(X_train, y_train_5)\n",
    "sgd_clf.predict([five])"
   ]
  },
  {
   "cell_type": "markdown",
   "id": "14a86492",
   "metadata": {},
   "source": [
    "## 1.1 Confusion Matrix\n",
    "\n",
    "For clarity the confusion matrix shows the following values:\n",
    "\n",
    "| TN | FP | \n",
    "| --- | --- |\n",
    "| **FN** | **TP** |\n",
    "\n",
    "We will check the performance of our SGDClassifier."
   ]
  },
  {
   "cell_type": "code",
   "execution_count": 6,
   "id": "1aa32a75",
   "metadata": {},
   "outputs": [
    {
     "data": {
      "text/plain": [
       "array([[53892,   687],\n",
       "       [ 1891,  3530]])"
      ]
     },
     "execution_count": 6,
     "metadata": {},
     "output_type": "execute_result"
    }
   ],
   "source": [
    "# Instead of Cross Validation Score we get the predicted values\n",
    "from sklearn.model_selection import cross_val_predict\n",
    "y_train_pred = cross_val_predict(sgd_clf, X_train, y_train_5, cv=3)\n",
    "\n",
    "# We show a matrix with the labeled and predicted values\n",
    "from sklearn.metrics import confusion_matrix\n",
    "confusion_matrix(y_train_5, y_train_pred)"
   ]
  },
  {
   "cell_type": "markdown",
   "id": "a19002d4",
   "metadata": {},
   "source": [
    "## 1.2 Precision, Recall, F1 Score"
   ]
  },
  {
   "cell_type": "code",
   "execution_count": 7,
   "id": "4468a047",
   "metadata": {},
   "outputs": [
    {
     "name": "stdout",
     "output_type": "stream",
     "text": [
      "Precision: 0.8370879772350012\n",
      "Recall: 0.6511713705958311\n",
      "F1 Score: 0.7325171197343846\n"
     ]
    }
   ],
   "source": [
    "from sklearn.metrics import precision_score\n",
    "from sklearn.metrics import recall_score\n",
    "from sklearn.metrics import f1_score\n",
    "\n",
    "print(\"Precision:\", precision_score(y_train_5, y_train_pred))\n",
    "print(\"Recall:\", recall_score(y_train_5, y_train_pred))\n",
    "print(\"F1 Score:\", f1_score(y_train_5, y_train_pred))"
   ]
  },
  {
   "cell_type": "markdown",
   "id": "f65d1756",
   "metadata": {},
   "source": [
    "To clarify these results, **precision** is the accuracy of positive predictions, **recall** or true positive rate (TRP) is the ratio of positive instances that are correctly detected by the classifier. **F1 score** is the harmonic mean of precision and recall.\n",
    "\n",
    "**If you need a simple way to compare between two classifiers, F1 is a very useful tool**. Nevertheless, the F1 score favors classifiers that have similar precision and recall. We do not always want this.\n",
    "\n",
    "In this example we have much higher precision than recall, if we care little about false negatives (if the model predicts that it is not a 5 but it actually is), then this might be a good metric.\n",
    "\n",
    "Unfortunatelly there is a **precision/recall trade-off**, that means that increasing precision reduces recall and viceversa.\n",
    "\n",
    "## 1.3 Precision Recall Trade/Off\n",
    "\n",
    "Classifiers compute a score based on a desicion function. If that score is greater than a threshold, it assigns the instance to the positive class; otherwise to the negative one.\n",
    "\n",
    "Since there is a trade off, increasing the threshold will increase precision, but will decrease recall.\n",
    "\n",
    "There are different factors that should be considered to select the correct threshold. **As a rule of thumb you should prefer the PR curve whenever the positive class is rare or when you care more about the false positives than the false negatives, otherwise use ROC curve**. \n",
    "\n",
    "Since we have 5s as positives and not-5s as negatives we clearly have a rare positive class in comparison so we should prefer the PR Curve, we will do anyway on this notebook."
   ]
  },
  {
   "cell_type": "markdown",
   "id": "7cfd1b5a",
   "metadata": {},
   "source": [
    "### PR Curve (Precision/Recall Curve) \n",
    "\n",
    "We will see what happens if we adjust the threshold to obtain a certain precision."
   ]
  },
  {
   "cell_type": "code",
   "execution_count": 8,
   "id": "5ee51c79",
   "metadata": {},
   "outputs": [],
   "source": [
    "y_scores = cross_val_predict(sgd_clf, X_train, y_train_5, cv=3, method=\"decision_function\")\n",
    "\n",
    "from sklearn.metrics import precision_recall_curve\n",
    "\n",
    "precisions, recalls, thresholds = precision_recall_curve(y_train_5, y_scores)"
   ]
  },
  {
   "cell_type": "code",
   "execution_count": 9,
   "id": "6183e5f4",
   "metadata": {},
   "outputs": [
    {
     "name": "stdout",
     "output_type": "stream",
     "text": [
      "Threshold at 90% precision: 3370.0194991439566\n",
      "Recall at 90% precision: 0.4799852425751706\n"
     ]
    }
   ],
   "source": [
    "# This variable could be changed depending on the model, \n",
    "# In this case it is to aim for 90% precision\n",
    "# Use this line for the Precision vs Recall Graph\n",
    "threshold_90_precision = thresholds[np.argmax(precisions >= 0.90)]\n",
    "recall_90_precision = recalls[np.argmax(precisions >= 0.90)]\n",
    "\n",
    "print(\"Threshold at 90% precision:\", threshold_90_precision)\n",
    "print(\"Recall at 90% precision:\", recall_90_precision)"
   ]
  },
  {
   "cell_type": "code",
   "execution_count": 10,
   "id": "b9771594",
   "metadata": {},
   "outputs": [
    {
     "data": {
      "image/png": "[encoded data removed]",
      "text/plain": [
       "<Figure size 720x360 with 1 Axes>"
      ]
     },
     "metadata": {
      "needs_background": "light"
     },
     "output_type": "display_data"
    }
   ],
   "source": [
    "def plot_precision_vs_recall(precisions, recalls):\n",
    "    plt.plot(recalls, precisions, \"b-\", linewidth=2, label=\"CGD Classifier\")\n",
    "    plt.title(\"Precision vs Recall Curve\", fontsize=16)\n",
    "    plt.xlabel(\"Recall\", fontsize=16)\n",
    "    plt.ylabel(\"Precision\", fontsize=16)\n",
    "    plt.axis([0, 1, 0, 1])\n",
    "    plt.grid(True)\n",
    "\n",
    "    \n",
    "\n",
    "# plot for 90%\n",
    "plt.figure(figsize=(10, 5))\n",
    "plot_precision_vs_recall(precisions, recalls)\n",
    "plt.legend(loc=\"lower left\")\n",
    "plt.plot([recall_90_precision, recall_90_precision], [0., 0.9], \"r:\")\n",
    "plt.plot([0.0, recall_90_precision], [0.9, 0.9], \"r:\")\n",
    "plt.plot([recall_90_precision], [0.9], \"ro\")\n",
    "\n",
    "# plot for 80%\n",
    "threshold_80_precision = thresholds[np.argmax(precisions >= 0.80)]\n",
    "recall_80_precision = recalls[np.argmax(precisions >= 0.80)]\n",
    "plt.plot([recall_80_precision, recall_80_precision], [0., 0.8], \"r:\")\n",
    "plt.plot([0.0, recall_80_precision], [0.8, 0.8], \"r:\")\n",
    "plt.plot([recall_80_precision], [0.8], \"ro\")\n",
    "\n",
    "plt.show()"
   ]
  },
  {
   "cell_type": "markdown",
   "id": "118276cd",
   "metadata": {},
   "source": [
    "We see that in the decaying curve, the precision drops sharply around 80% recall on this graph. \n",
    "\n",
    "The threshold choice depends on the project, here you could see if we adjust the precision from 90% to 80% we have a much higher recall without sacrificing much precision, depending on what will be measured and how important False Positives are."
   ]
  },
  {
   "cell_type": "markdown",
   "id": "34831b8a",
   "metadata": {},
   "source": [
    "### ROC Curve (Receiver Operating Characteristic)\n",
    "\n",
    "Similar to the PR curve, this one plots true positive rate (recall) against false positive rate (FPR)\n",
    "\n",
    "**FPR:** False positive rate is equal to 1- true negative rate = 1 - specificity."
   ]
  },
  {
   "cell_type": "code",
   "execution_count": 11,
   "id": "50401810",
   "metadata": {},
   "outputs": [],
   "source": [
    "from sklearn.metrics import roc_curve\n",
    "\n",
    "fpr, tpr, thresholds = roc_curve(y_train_5, y_scores)"
   ]
  },
  {
   "cell_type": "code",
   "execution_count": 12,
   "id": "96887cf1",
   "metadata": {},
   "outputs": [
    {
     "data": {
      "image/png": "[encoded data removed]",
      "text/plain": [
       "<Figure size 720x360 with 1 Axes>"
      ]
     },
     "metadata": {
      "needs_background": "light"
     },
     "output_type": "display_data"
    }
   ],
   "source": [
    "def plot_roc_curve(fpr, tpr, label=None):\n",
    "    plt.plot(fpr, tpr, linewidth=2, label=label)\n",
    "    plt.plot([0, 1], [0, 1], 'k--') # dashed diagonal\n",
    "    plt.title(\"ROC Curve\", fontsize=16)\n",
    "    plt.axis([0, 1, 0, 1])                                    # Not shown in the book\n",
    "    plt.xlabel('False Positive Rate (Fall-Out)', fontsize=16) # Not shown\n",
    "    plt.ylabel('True Positive Rate (Recall)', fontsize=16)    # Not shown\n",
    "    plt.grid(True)                                            # Not shown\n",
    "\n",
    "plt.figure(figsize=(10, 5))                                    # Not shown\n",
    "plot_roc_curve(fpr, tpr)\n",
    "fpr_90 = fpr[np.argmax(tpr >= recall_90_precision)]           # Not shown\n",
    "plt.plot([fpr_90, fpr_90], [0., recall_90_precision], \"r:\")   # Not shown\n",
    "plt.plot([0.0, fpr_90], [recall_90_precision, recall_90_precision], \"r:\")  # Not shown\n",
    "plt.plot([fpr_90], [recall_90_precision], \"ro\") \n",
    "plt.show()"
   ]
  },
  {
   "cell_type": "markdown",
   "id": "270adbf0",
   "metadata": {},
   "source": [
    "A way to compare classifiers is to measure the area under the curve (AUC). A percet classifier will have a ROC AUC equal to 1, a purely random classifier will have a ROC AUC equal to 0.5."
   ]
  },
  {
   "cell_type": "code",
   "execution_count": 13,
   "id": "bcdeb1f8",
   "metadata": {},
   "outputs": [
    {
     "name": "stdout",
     "output_type": "stream",
     "text": [
      "ROC AUC Score: 0.9604938554008616\n"
     ]
    }
   ],
   "source": [
    "from sklearn.metrics import roc_auc_score\n",
    "\n",
    "print(\"ROC AUC Score:\", roc_auc_score(y_train_5, y_scores))"
   ]
  },
  {
   "cell_type": "markdown",
   "id": "ba52c1d6",
   "metadata": {},
   "source": [
    "On this scenario we see a very high ROC AUC score, that seems to be a good score, but as we mentioned, in this case there are few positives (5s) in comparison to negatives (not 5s), that will cause this score to be high, reason why we would prefer the PR score on this case."
   ]
  },
  {
   "cell_type": "markdown",
   "id": "2887aa3e",
   "metadata": {},
   "source": [
    "## 1.4 Comparing Binary Classifier Models\n",
    "\n",
    "We will now train a Random Forest Classifier and compare ROC and ROC AUC scores."
   ]
  },
  {
   "cell_type": "code",
   "execution_count": 14,
   "id": "45dd0885",
   "metadata": {},
   "outputs": [],
   "source": [
    "from sklearn.ensemble import RandomForestClassifier\n",
    "\n",
    "forest_clf = RandomForestClassifier(random_state=42)\n",
    "y_probas_forest = cross_val_predict(forest_clf, X_train, y_train_5, cv=3,\n",
    "                                   method=\"predict_proba\")\n",
    "\n",
    "y_scores_forest = y_probas_forest[:,1]\n",
    "\n",
    "fpr_forest, tpr_forest, thresholds_forest = roc_curve(y_train_5, y_scores_forest)\n",
    "\n",
    "recall_for_forest = tpr_forest[np.argmax(fpr_forest >= fpr_90)]"
   ]
  },
  {
   "cell_type": "code",
   "execution_count": 15,
   "id": "37b3f888",
   "metadata": {},
   "outputs": [
    {
     "data": {
      "image/png": "[encoded data removed]",
      "text/plain": [
       "<Figure size 576x432 with 1 Axes>"
      ]
     },
     "metadata": {
      "needs_background": "light"
     },
     "output_type": "display_data"
    }
   ],
   "source": [
    "plt.figure(figsize=(8, 6))\n",
    "plt.plot(fpr, tpr, \"b:\", linewidth=2, label=\"SGD\")\n",
    "plot_roc_curve(fpr_forest, tpr_forest, \"Random Forest\")\n",
    "plt.plot([fpr_90, fpr_90], [0., recall_90_precision], \"r:\")\n",
    "plt.plot([0.0, fpr_90], [recall_90_precision, recall_90_precision], \"r:\")\n",
    "plt.plot([fpr_90], [recall_90_precision], \"ro\")\n",
    "plt.plot([fpr_90, fpr_90], [0., recall_for_forest], \"r:\")\n",
    "plt.plot([fpr_90], [recall_for_forest], \"ro\")\n",
    "plt.grid(True)\n",
    "plt.legend(loc=\"lower right\", fontsize=16)\n",
    "plt.show()"
   ]
  },
  {
   "cell_type": "code",
   "execution_count": 16,
   "id": "90c99c60",
   "metadata": {},
   "outputs": [
    {
     "name": "stdout",
     "output_type": "stream",
     "text": [
      "0.9604938554008616 - SGDClassifier ROC AUC Score\n",
      "0.9983436731328145 - Random Forest Classifier ROC AUC Score:\n"
     ]
    }
   ],
   "source": [
    "print(roc_auc_score(y_train_5, y_scores), \"- SGDClassifier ROC AUC Score\")\n",
    "print(roc_auc_score(y_train_5, y_scores_forest), \"- Random Forest Classifier ROC AUC Score:\")"
   ]
  },
  {
   "cell_type": "code",
   "execution_count": 17,
   "id": "87925438",
   "metadata": {},
   "outputs": [],
   "source": [
    "precisions2, recalls2, thresholds2 = precision_recall_curve(y_train_5, y_scores_forest)"
   ]
  },
  {
   "cell_type": "code",
   "execution_count": 18,
   "id": "c23441b3",
   "metadata": {},
   "outputs": [
    {
     "data": {
      "image/png": "[encoded data removed]",
      "text/plain": [
       "<Figure size 720x360 with 1 Axes>"
      ]
     },
     "metadata": {
      "needs_background": "light"
     },
     "output_type": "display_data"
    }
   ],
   "source": [
    "plt.figure(figsize=(10, 5))\n",
    "plot_precision_vs_recall(precisions, recalls)\n",
    "plt.plot(recalls2, precisions2, \"r:\", linewidth=2, label = \"Random Forest Classifier\")\n",
    "plt.legend(loc=\"lower left\", fontsize=12)\n",
    "\n",
    "plt.show()"
   ]
  },
  {
   "cell_type": "code",
   "execution_count": 19,
   "id": "a90681a5",
   "metadata": {},
   "outputs": [
    {
     "name": "stdout",
     "output_type": "stream",
     "text": [
      "Recall at 99% precision: 0.8662608374838591\n"
     ]
    }
   ],
   "source": [
    "recall_99_precision = recalls2[np.argmax(precisions2 >= 0.99)]\n",
    "\n",
    "print(\"Recall at 99% precision:\", recall_99_precision)"
   ]
  },
  {
   "cell_type": "markdown",
   "id": "eaa4ad2e",
   "metadata": {},
   "source": [
    "We observe that for this model the ROC AUC score has improved, but more impresive is when we check the PR curve where we see that at 99% precision we have 86% recall!\n",
    "\n",
    "# 2. Multiclass Classification\n",
    "\n",
    "There are different ways to approach multiclass classifiers, some classifiers handle multiple classes natively and others are strictly binary classifiers (that with certain strategies can be used to perform multiclass classificaton with multiple binary classifiers).\n",
    "\n",
    "- Multinomial Classifiers: SGD Classifiers, Random Forest Classifiers, Naive Bayes Classifiers\n",
    "- Binomial Classifiers: Logistic Regression, Support Vector Machine Classifiers\n",
    "\n",
    "For binary classifiers there are 2 common strategies, we will use the number example to show how it could be done.\n",
    "\n",
    "- **One versus the rest (OvR) strategy:** You train x binary classifiers, one per class (10 in this example 0 to 9 digits). Then you get the decision score from each classifier for that image and you select the class whose classifier outputs the highest score.\n",
    "- **One versus one (OvO) strategy:** You train a classifier in all combination of pairs (Ex. 0 and 1, 0 and 2, ..., 8 and 9) with a total of N x (N-1) / 2 and see wich class wins the most duels.\n",
    "\n",
    "An advantage of the OvO strategy is that each classifier only needs to be trained on the part of the training set for the two classes that it must distinguish.\n",
    "\n",
    "Some algorithms (like SVM) scale poorly with the size of the training set, for these algorithms OvO is preferred since its faster to train many classifiers on small training sets than to train few classifiers on large training sets. For most binary classification algorithms, however, OvR is preffered.\n",
    "\n",
    "**Fortunately, Scikit-Learn detects when you try to use a binary classification algorithm for a multiclass classification task, and automatically runs one of them depending on the algorithm**."
   ]
  },
  {
   "cell_type": "code",
   "execution_count": 20,
   "id": "2b748f14",
   "metadata": {},
   "outputs": [
    {
     "name": "stdout",
     "output_type": "stream",
     "text": [
      "Real Value: 5\n",
      "Predicted Value: [5]\n",
      "Each Digit Score:\n",
      "[[ 1.72501977  2.72809088  7.2510018   8.3076379  -0.31087254  9.3132482\n",
      "   1.70975103  2.76765202  6.23049537  4.84771048]]\n",
      "All Digits: [0 1 2 3 4 5 6 7 8 9]\n",
      "Digit With Max Score: 5\n"
     ]
    }
   ],
   "source": [
    "# example with an SVC\n",
    "# It will automatically select OvO\n",
    "# On this scenario it will train 45 binary classifiers, \n",
    "# get decision scores and select the class that wins the most duels\n",
    "# we will scale the values since they vary between 0 and 250\n",
    "from sklearn.svm import SVC\n",
    "\n",
    "svm_clf = SVC()\n",
    "svm_clf.fit(X_train, y_train)\n",
    "\n",
    "# some_value in this case is a 5\n",
    "some_value = X[0]\n",
    "print(\"Real Value:\", y[0])\n",
    "print(\"Predicted Value:\" ,svm_clf.predict([some_value]))\n",
    "some_digit_scores = svm_clf.decision_function([some_value])\n",
    "print(\"Each Digit Score:\")\n",
    "print(some_digit_scores)\n",
    "print(\"All Digits:\", svm_clf.classes_)\n",
    "print(\"Digit With Max Score:\", np.argmax(some_digit_scores))"
   ]
  },
  {
   "cell_type": "markdown",
   "id": "33effd91",
   "metadata": {},
   "source": [
    "As we see the first value X0 (that is a five) was accurately predicted, we could observe the matrix of each digits score and that the highest score is 5.\n",
    "\n",
    "We could still force with Scikit Learn to use one-versus-one or one-versus-the-rest with the OneVsOneClassifier, OneVsRestClassifier on sklearn.multiclass.\n",
    "\n",
    "**Note:** these predictions are made without feature scaling, cross_validation or using GridSearchCV or RandomSearchCV that will affect results or might cause overfitting, the purpose of the previous code was oriented to display how OvO and OvR work.\n",
    "\n",
    "# 3. Error Analysis\n",
    "\n",
    "This section would be used once a promising model already has been found. Tipically we would explore data preparation options, try out multiple models (shortlisting the best ones and fine-tuning their hyperparameters) and automate as much as possible. The following is done assuming that you have found a promising model and want to find ways to improve it."
   ]
  },
  {
   "cell_type": "code",
   "execution_count": 21,
   "id": "d1426ff4",
   "metadata": {},
   "outputs": [
    {
     "data": {
      "text/plain": [
       "array([3, 0, 4, ..., 5, 6, 8], dtype=uint8)"
      ]
     },
     "execution_count": 21,
     "metadata": {},
     "output_type": "execute_result"
    }
   ],
   "source": [
    "# Running this promising model that we wish to improve:\n",
    "\n",
    "from sklearn.preprocessing import StandardScaler\n",
    "from sklearn.model_selection import cross_val_predict\n",
    "from sklearn.linear_model import SGDClassifier\n",
    "\n",
    "\n",
    "scaler = StandardScaler()\n",
    "X_train_scaled = scaler.fit_transform(X_train.astype(np.float64))\n",
    "\n",
    "sgd_clf = SGDClassifier(random_state=42)\n",
    "#sgd_clf.fit(X_train_scaled, y_train)\n",
    "\n",
    "y_train_pred = cross_val_predict(sgd_clf, X_train_scaled, y_train, cv=3)\n",
    "\n",
    "y_train_pred"
   ]
  },
  {
   "cell_type": "code",
   "execution_count": 22,
   "id": "c29cd01a",
   "metadata": {},
   "outputs": [
    {
     "data": {
      "text/plain": [
       "array([[5577,    0,   22,    5,    8,   43,   36,    6,  225,    1],\n",
       "       [   0, 6400,   37,   24,    4,   44,    4,    7,  212,   10],\n",
       "       [  27,   27, 5220,   92,   73,   27,   67,   36,  378,   11],\n",
       "       [  22,   17,  117, 5227,    2,  203,   27,   40,  403,   73],\n",
       "       [  12,   14,   41,    9, 5182,   12,   34,   27,  347,  164],\n",
       "       [  27,   15,   30,  168,   53, 4444,   75,   14,  535,   60],\n",
       "       [  30,   15,   42,    3,   44,   97, 5552,    3,  131,    1],\n",
       "       [  21,   10,   51,   30,   49,   12,    3, 5684,  195,  210],\n",
       "       [  17,   63,   48,   86,    3,  126,   25,   10, 5429,   44],\n",
       "       [  25,   18,   30,   64,  118,   36,    1,  179,  371, 5107]])"
      ]
     },
     "execution_count": 22,
     "metadata": {},
     "output_type": "execute_result"
    }
   ],
   "source": [
    "conf_mx = confusion_matrix(y_train, y_train_pred)\n",
    "conf_mx"
   ]
  },
  {
   "cell_type": "code",
   "execution_count": 23,
   "id": "6a62a944",
   "metadata": {},
   "outputs": [
    {
     "data": {
      "image/png": "[encoded data removed]",
      "text/plain": [
       "<Figure size 288x288 with 1 Axes>"
      ]
     },
     "metadata": {
      "needs_background": "light"
     },
     "output_type": "display_data"
    }
   ],
   "source": [
    "plt.matshow(conf_mx, cmap=plt.cm.gray)\n",
    "plt.show()"
   ]
  },
  {
   "cell_type": "markdown",
   "id": "37748177",
   "metadata": {},
   "source": [
    "The number 5 is slightly darker meaning that there are less instances of this number or that it doesn't perform as well for this number (both are the case here)."
   ]
  },
  {
   "cell_type": "code",
   "execution_count": 24,
   "id": "80da251d",
   "metadata": {},
   "outputs": [
    {
     "data": {
      "image/png": "[encoded data removed]",
      "text/plain": [
       "<Figure size 288x288 with 1 Axes>"
      ]
     },
     "metadata": {
      "needs_background": "light"
     },
     "output_type": "display_data"
    }
   ],
   "source": [
    "row_sums = conf_mx.sum(axis=1, keepdims=True)\n",
    "norm_conf_mx = conf_mx / row_sums\n",
    "np.fill_diagonal(norm_conf_mx, 0)\n",
    "plt.matshow(norm_conf_mx, cmap=plt.cm.gray)\n",
    "plt.show()"
   ]
  },
  {
   "cell_type": "markdown",
   "id": "d558fc2b",
   "metadata": {},
   "source": [
    "We could observe the type of errors the classifier makes. The column for class 8 is quite bright, this tells you that many images get misclassified as 8s. However the row for class 8 is not that bad, telling you that actual 8s in general get properly classified as 8s. You can also see that 3s and 5s get often confused in both directions.\n",
    "\n",
    "Analyzing the confusion matrix gives you insights on ways to improve the classifier. On this example, you could try to gather more training data for digits that look like 8s but are not. You could also engineer new features that would help the classifier (Ex. an algorithm to count the number of closed loops (8 has two, 6 has one, 5 has none), you could also preprocess the images to make patters as closed loops stand out more."
   ]
  },
  {
   "cell_type": "code",
   "execution_count": 25,
   "id": "3881683d",
   "metadata": {},
   "outputs": [
    {
     "data": {
      "image/png": "[encoded data removed]",
      "text/plain": [
       "<Figure size 288x288 with 4 Axes>"
      ]
     },
     "metadata": {
      "needs_background": "light"
     },
     "output_type": "display_data"
    }
   ],
   "source": [
    "def plot_digits(instances, images_per_row=10, **options):\n",
    "    size = 28\n",
    "    images_per_row = min(len(instances), images_per_row)\n",
    "    images = [instance.reshape(size,size) for instance in instances]\n",
    "    n_rows = (len(instances) - 1) // images_per_row + 1\n",
    "    row_images = []\n",
    "    n_empty = n_rows * images_per_row - len(instances)\n",
    "    images.append(np.zeros((size, size * n_empty)))\n",
    "    for row in range(n_rows):\n",
    "        rimages = images[row * images_per_row : (row + 1) * images_per_row]\n",
    "        row_images.append(np.concatenate(rimages, axis=1))\n",
    "    image = np.concatenate(row_images, axis=0)\n",
    "    plt.imshow(image, cmap = mpl.cm.binary, **options)\n",
    "    plt.axis(\"off\")\n",
    "\n",
    "cl_a, cl_b = 3, 5\n",
    "X_aa = X_train[(y_train == cl_a) & (y_train_pred == cl_a)]\n",
    "X_ab = X_train[(y_train == cl_a) & (y_train_pred == cl_b)]\n",
    "X_ba = X_train[(y_train == cl_b) & (y_train_pred == cl_a)]\n",
    "X_bb = X_train[(y_train == cl_b) & (y_train_pred == cl_b)]\n",
    "\n",
    "plt.figure(figsize=(4,4))\n",
    "plt.subplot(221); plot_digits(X_aa[:25], images_per_row=5)\n",
    "plt.subplot(222); plot_digits(X_ab[:25], images_per_row=5)\n",
    "plt.subplot(223); plot_digits(X_ba[:25], images_per_row=5)\n",
    "plt.subplot(224); plot_digits(X_bb[:25], images_per_row=5)\n",
    "plt.show()"
   ]
  },
  {
   "cell_type": "markdown",
   "id": "d03b2531",
   "metadata": {},
   "source": [
    "Analyzing individual errors can also be a good way to gain insights on what your classifier is doing and why it is failing, but it is more difficult and time-consuming, an example is plotting 3 and 5s. We see in the following image that the position of the small line that joins the top line to the bottom arc might cause confusion. On this case we used an SGDClassifier that is a linear model that might cause this. One way to reduce the confusion would be to preprocess the images to ensure that they are well centered and not too rotated."
   ]
  },
  {
   "cell_type": "markdown",
   "id": "dc903a35",
   "metadata": {},
   "source": [
    "# 4. Multilabel Classification\n",
    "\n",
    "If you want your classifier to output multiple classes for each instance (as in face recognition if there is more than one person) then you want to output multiple binary tags this is a **multilabel classification system**.\n",
    "\n",
    "Here we will use a simple example since face recognition should be reviewed on it's own notebook. On this example we se if numbers are large and also if they are odd."
   ]
  },
  {
   "cell_type": "code",
   "execution_count": 26,
   "id": "ad9e4f9b",
   "metadata": {},
   "outputs": [
    {
     "name": "stdout",
     "output_type": "stream",
     "text": [
      "Real Value: 5\n",
      "Description: Not Large, Odd [False, True]\n",
      "Prediction:  [[False  True]]\n"
     ]
    }
   ],
   "source": [
    "from sklearn.neighbors import KNeighborsClassifier\n",
    "\n",
    "y_train_large = (y_train >= 7)\n",
    "y_train_odd = (y_train % 2 == 1)\n",
    "y_multilabel = np.c_[y_train_large, y_train_odd]\n",
    "\n",
    "knn_clf = KNeighborsClassifier()\n",
    "knn_clf.fit(X_train, y_multilabel)\n",
    "\n",
    "print(\"Real Value:\", y[0])\n",
    "print(\"Description: Not Large, Odd [False, True]\")\n",
    "print(\"Prediction: \", knn_clf.predict([X[0]]))"
   ]
  },
  {
   "cell_type": "markdown",
   "id": "20d164f0",
   "metadata": {},
   "source": [
    "We see a correct prediction here. An approach to select the right metric is measuring the F1 score for each individual label, then simply compute the average score. The way decided depends on the project, more depth on this will be added on a different notebook."
   ]
  },
  {
   "cell_type": "code",
   "execution_count": 27,
   "id": "76c0cea0",
   "metadata": {},
   "outputs": [
    {
     "data": {
      "text/plain": [
       "0.976410265560605"
      ]
     },
     "execution_count": 27,
     "metadata": {},
     "output_type": "execute_result"
    }
   ],
   "source": [
    "y_train_knn_pred = cross_val_predict(knn_clf, X_train, y_multilabel, cv=3)\n",
    "f1_score(y_multilabel, y_train_knn_pred, average=\"macro\")"
   ]
  },
  {
   "cell_type": "markdown",
   "id": "75ed98f5",
   "metadata": {},
   "source": [
    "# 5. Multioutput Classification\n",
    "\n",
    "A multioutput-multiclass classification is a generalization of multilabel classification where each label can be multiclass. This will be seen further in another notebook.\n",
    "\n",
    "An example is a system that removes noise from images. Notice that the classifier's output is multilabel (one label per pixel) and each label can have multiple values (0 to 255)."
   ]
  },
  {
   "cell_type": "code",
   "execution_count": 28,
   "id": "fb8de5f6",
   "metadata": {},
   "outputs": [],
   "source": [
    "# creating a training and thest set with added random noise\n",
    "\n",
    "noise = np.random.randint(0, 100, (len(X_train), 784))\n",
    "X_train_mod = X_train + noise\n",
    "noise = np.random.randint(0, 100, (len(X_test), 784))\n",
    "X_test_mod = X_test + noise\n",
    "y_train_mod = X_train\n",
    "y_test_mod = X_test"
   ]
  },
  {
   "cell_type": "code",
   "execution_count": 30,
   "id": "7caa636b",
   "metadata": {},
   "outputs": [
    {
     "name": "stdout",
     "output_type": "stream",
     "text": [
      "Image with random noise vs clean\n"
     ]
    },
    {
     "data": {
      "image/png": "[encoded data removed]",
      "text/plain": [
       "<Figure size 432x288 with 2 Axes>"
      ]
     },
     "metadata": {
      "needs_background": "light"
     },
     "output_type": "display_data"
    }
   ],
   "source": [
    "def plot_digit(data):\n",
    "    image = data.reshape(28, 28)\n",
    "    plt.imshow(image, cmap = mpl.cm.binary,\n",
    "               interpolation=\"nearest\")\n",
    "    plt.axis(\"off\")\n",
    "\n",
    "some_index = 0\n",
    "print(\"Image with random noise vs clean\")\n",
    "plt.subplot(121); plot_digit(X_test_mod[some_index])\n",
    "plt.subplot(122); plot_digit(y_test_mod[some_index])\n",
    "plt.show()"
   ]
  },
  {
   "cell_type": "code",
   "execution_count": 31,
   "id": "b853a793",
   "metadata": {},
   "outputs": [
    {
     "name": "stdout",
     "output_type": "stream",
     "text": [
      "digit afer cleaning\n"
     ]
    },
    {
     "data": {
      "image/png": "[encoded data removed]",
      "text/plain": [
       "<Figure size 432x288 with 1 Axes>"
      ]
     },
     "metadata": {
      "needs_background": "light"
     },
     "output_type": "display_data"
    }
   ],
   "source": [
    "knn_clf.fit(X_train_mod, y_train_mod)\n",
    "clean_digit = knn_clf.predict([X_test_mod[some_index]])\n",
    "print(\"digit afer cleaning\")\n",
    "plot_digit(clean_digit)"
   ]
  }
 ],
 "metadata": {
  "kernelspec": {
   "display_name": "Python 3",
   "language": "python",
   "name": "python3"
  },
  "language_info": {
   "codemirror_mode": {
    "name": "ipython",
    "version": 3
   },
   "file_extension": ".py",
   "mimetype": "text/x-python",
   "name": "python",
   "nbconvert_exporter": "python",
   "pygments_lexer": "ipython3",
   "version": "3.9.4"
  }
 },
 "nbformat": 4,
 "nbformat_minor": 5
}
